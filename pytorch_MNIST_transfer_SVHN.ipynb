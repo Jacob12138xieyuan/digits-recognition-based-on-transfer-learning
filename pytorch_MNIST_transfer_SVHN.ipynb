{
 "cells": [
  {
   "cell_type": "code",
   "execution_count": 3,
   "metadata": {
    "collapsed": true
   },
   "outputs": [],
   "source": [
    "import os\n",
    "\n",
    "# third-party library\n",
    "import torch\n",
    "import torch.nn as nn\n",
    "import torch.utils.data as Data\n",
    "import torchvision\n",
    "import matplotlib.pyplot as plt\n",
    "\n",
    "# torch.manual_seed(1)    # reproducible\n",
    "\n",
    "# Hyper Parameters\n",
    "EPOCH = 2             # train the training data n times, to save time, we just train 1 epoch\n",
    "BATCH_SIZE = 50\n",
    "LR = 0.001              # learning rate\n",
    "DOWNLOAD_MNIST = False\n"
   ]
  },
  {
   "cell_type": "code",
   "execution_count": 4,
   "metadata": {
    "collapsed": false
   },
   "outputs": [
    {
     "name": "stdout",
     "output_type": "stream",
     "text": [
      "Downloading http://yann.lecun.com/exdb/mnist/train-images-idx3-ubyte.gz\n",
      "Downloading http://yann.lecun.com/exdb/mnist/train-labels-idx1-ubyte.gz\n",
      "Downloading http://yann.lecun.com/exdb/mnist/t10k-images-idx3-ubyte.gz\n",
      "Downloading http://yann.lecun.com/exdb/mnist/t10k-labels-idx1-ubyte.gz\n",
      "Processing...\n",
      "Done!\n"
     ]
    },
    {
     "data": {
      "image/png": "[encoded data removed]",
      "text/plain": [
       "<Figure size 432x288 with 1 Axes>"
      ]
     },
     "metadata": {},
     "output_type": "display_data"
    },
    {
     "data": {
      "image/png": "[encoded data removed]",
      "text/plain": [
       "<Figure size 432x288 with 1 Axes>"
      ]
     },
     "metadata": {},
     "output_type": "display_data"
    },
    {
     "data": {
      "image/png": "[encoded data removed]",
      "text/plain": [
       "<Figure size 432x288 with 1 Axes>"
      ]
     },
     "metadata": {},
     "output_type": "display_data"
    },
    {
     "data": {
      "image/png": "[encoded data removed]",
      "text/plain": [
       "<Figure size 432x288 with 1 Axes>"
      ]
     },
     "metadata": {},
     "output_type": "display_data"
    },
    {
     "data": {
      "image/png": "[encoded data removed]",
      "text/plain": [
       "<Figure size 432x288 with 1 Axes>"
      ]
     },
     "metadata": {},
     "output_type": "display_data"
    }
   ],
   "source": [
    "# Mnist digits dataset\n",
    "if not(os.path.exists('./mnist/')) or not os.listdir('./mnist/'):\n",
    "    # not mnist dir or mnist is empyt dir\n",
    "    DOWNLOAD_MNIST = True\n",
    "\n",
    "train_data = torchvision.datasets.MNIST(\n",
    "    root='./mnist/',\n",
    "    train=True,                                     # this is training data\n",
    "    transform=torchvision.transforms.ToTensor(),    # Converts a PIL.Image or numpy.ndarray to\n",
    "                                                    # torch.FloatTensor of shape (C x H x W) and normalize in the range [0.0, 1.0]\n",
    "    download=DOWNLOAD_MNIST,\n",
    ")\n",
    "\n",
    "# plot one example\n",
    "# print(train_data.train_data.size())                 # (60000, 28, 28)\n",
    "# print(train_data.train_labels.size())               # (60000)\n",
    "for i in range(5):\n",
    "    plt.imshow(train_data.train_data[i].numpy(), cmap='gray')\n",
    "    plt.title('%i' % train_data.train_labels[i])\n",
    "    plt.show()\n",
    "\n",
    "# Data Loader for easy mini-batch return in training, the image batch shape will be (50, 1, 28, 28)\n",
    "train_loader = Data.DataLoader(dataset=train_data, batch_size=BATCH_SIZE, shuffle=True)\n",
    "\n",
    "# pick 2000 samples to speed up testing\n",
    "test_data = torchvision.datasets.MNIST(root='./mnist/', train=False)\n",
    "test_x = torch.unsqueeze(test_data.test_data, dim=1).type(torch.FloatTensor)[:2000]/255.   # shape from (2000, 28, 28) to (2000, 1, 28, 28), value in range(0,1)\n",
    "test_y = test_data.test_labels[:2000]\n"
   ]
  },
  {
   "cell_type": "code",
   "execution_count": 5,
   "metadata": {
    "collapsed": true
   },
   "outputs": [],
   "source": [
    "class CNN(nn.Module):\n",
    "    def __init__(self):\n",
    "        super(CNN, self).__init__()\n",
    "        self.conv1 = nn.Sequential(         # input shape (1, 28, 28)\n",
    "            nn.Conv2d(\n",
    "                in_channels=1,              # input height\n",
    "                out_channels=16,            # n_filters\n",
    "                kernel_size=5,              # filter size\n",
    "                stride=1,                   # filter movement/step\n",
    "                padding=2,                  # if want same width and length of this image after con2d, padding=(kernel_size-1)/2 if stride=1\n",
    "            ),                              # output shape (16, 28, 28)\n",
    "            nn.ReLU(),                      # activation\n",
    "            nn.MaxPool2d(kernel_size=2),    # choose max value in 2x2 area, output shape (16, 14, 14)\n",
    "        )\n",
    "        self.conv2 = nn.Sequential(         # input shape (16, 14, 14)\n",
    "            nn.Conv2d(16, 32, 5, 1, 2),     # output shape (32, 14, 14)\n",
    "            nn.ReLU(),                      # activation\n",
    "            nn.MaxPool2d(2),                # output shape (32, 7, 7)\n",
    "        )\n",
    "        self.out = nn.Linear(32 * 7 * 7, 10)   # fully connected layer, output 10 classes\n",
    "\n",
    "    def forward(self, x):\n",
    "        x = self.conv1(x)\n",
    "        x = self.conv2(x)\n",
    "        x = x.view(x.size(0), -1)           # flatten the output of conv2 to (batch_size, 32 * 7 * 7)\n",
    "        output = self.out(x)\n",
    "        return output, x    # return x for visualization\n",
    "\n",
    "\n"
   ]
  },
  {
   "cell_type": "code",
   "execution_count": 6,
   "metadata": {
    "collapsed": false
   },
   "outputs": [
    {
     "name": "stdout",
     "output_type": "stream",
     "text": [
      "CNN(\n",
      "  (conv1): Sequential(\n",
      "    (0): Conv2d(1, 16, kernel_size=(5, 5), stride=(1, 1), padding=(2, 2))\n",
      "    (1): ReLU()\n",
      "    (2): MaxPool2d(kernel_size=2, stride=2, padding=0, dilation=1, ceil_mode=False)\n",
      "  )\n",
      "  (conv2): Sequential(\n",
      "    (0): Conv2d(16, 32, kernel_size=(5, 5), stride=(1, 1), padding=(2, 2))\n",
      "    (1): ReLU()\n",
      "    (2): MaxPool2d(kernel_size=2, stride=2, padding=0, dilation=1, ceil_mode=False)\n",
      "  )\n",
      "  (out): Linear(in_features=1568, out_features=10, bias=True)\n",
      ")\n",
      "Epoch:  0 | train loss: 2.2981 | test accuracy: 0.0985\n",
      "Epoch:  0 | train loss: 0.7770 | test accuracy: 0.8280\n",
      "Epoch:  0 | train loss: 0.2105 | test accuracy: 0.8885\n",
      "Epoch:  0 | train loss: 0.1572 | test accuracy: 0.9140\n",
      "Epoch:  0 | train loss: 0.4692 | test accuracy: 0.9275\n",
      "Epoch:  0 | train loss: 0.1107 | test accuracy: 0.9415\n",
      "Epoch:  0 | train loss: 0.1090 | test accuracy: 0.9455\n",
      "Epoch:  0 | train loss: 0.2136 | test accuracy: 0.9495\n",
      "Epoch:  0 | train loss: 0.1616 | test accuracy: 0.9635\n",
      "Epoch:  0 | train loss: 0.1506 | test accuracy: 0.9590\n",
      "Epoch:  0 | train loss: 0.0262 | test accuracy: 0.9590\n",
      "Epoch:  0 | train loss: 0.1266 | test accuracy: 0.9640\n",
      "Epoch:  0 | train loss: 0.1048 | test accuracy: 0.9675\n",
      "Epoch:  0 | train loss: 0.1737 | test accuracy: 0.9660\n",
      "Epoch:  0 | train loss: 0.0739 | test accuracy: 0.9715\n",
      "Epoch:  0 | train loss: 0.1130 | test accuracy: 0.9715\n",
      "Epoch:  0 | train loss: 0.0546 | test accuracy: 0.9635\n",
      "Epoch:  0 | train loss: 0.1878 | test accuracy: 0.9700\n",
      "Epoch:  0 | train loss: 0.0246 | test accuracy: 0.9680\n",
      "Epoch:  0 | train loss: 0.0379 | test accuracy: 0.9735\n",
      "Epoch:  0 | train loss: 0.1196 | test accuracy: 0.9805\n",
      "Epoch:  0 | train loss: 0.0168 | test accuracy: 0.9650\n",
      "Epoch:  0 | train loss: 0.1916 | test accuracy: 0.9815\n",
      "Epoch:  0 | train loss: 0.0582 | test accuracy: 0.9725\n",
      "Epoch:  1 | train loss: 0.0485 | test accuracy: 0.9805\n",
      "Epoch:  1 | train loss: 0.1029 | test accuracy: 0.9805\n",
      "Epoch:  1 | train loss: 0.1662 | test accuracy: 0.9805\n",
      "Epoch:  1 | train loss: 0.0095 | test accuracy: 0.9840\n",
      "Epoch:  1 | train loss: 0.0703 | test accuracy: 0.9790\n",
      "Epoch:  1 | train loss: 0.0066 | test accuracy: 0.9820\n",
      "Epoch:  1 | train loss: 0.0425 | test accuracy: 0.9795\n",
      "Epoch:  1 | train loss: 0.0415 | test accuracy: 0.9775\n",
      "Epoch:  1 | train loss: 0.0150 | test accuracy: 0.9815\n",
      "Epoch:  1 | train loss: 0.0346 | test accuracy: 0.9820\n",
      "Epoch:  1 | train loss: 0.0303 | test accuracy: 0.9815\n",
      "Epoch:  1 | train loss: 0.0507 | test accuracy: 0.9800\n",
      "Epoch:  1 | train loss: 0.0407 | test accuracy: 0.9820\n",
      "Epoch:  1 | train loss: 0.0250 | test accuracy: 0.9820\n",
      "Epoch:  1 | train loss: 0.0395 | test accuracy: 0.9785\n",
      "Epoch:  1 | train loss: 0.1164 | test accuracy: 0.9785\n",
      "Epoch:  1 | train loss: 0.0087 | test accuracy: 0.9825\n",
      "Epoch:  1 | train loss: 0.0125 | test accuracy: 0.9810\n",
      "Epoch:  1 | train loss: 0.0066 | test accuracy: 0.9800\n",
      "Epoch:  1 | train loss: 0.1517 | test accuracy: 0.9815\n",
      "Epoch:  1 | train loss: 0.0047 | test accuracy: 0.9820\n",
      "Epoch:  1 | train loss: 0.0411 | test accuracy: 0.9825\n",
      "Epoch:  1 | train loss: 0.0501 | test accuracy: 0.9780\n",
      "Epoch:  1 | train loss: 0.0129 | test accuracy: 0.9830\n"
     ]
    }
   ],
   "source": [
    "cnn = CNN()\n",
    "print(cnn)  # net architecture\n",
    "\n",
    "optimizer = torch.optim.Adam(cnn.parameters(), lr=LR)   # optimize all cnn parameters\n",
    "loss_func = nn.CrossEntropyLoss()                       # the target label is not one-hotted\n",
    "\n",
    "# following function (plot_with_labels) is for visualization, can be ignored if not interested\n",
    "# from matplotlib import cm\n",
    "# try: from sklearn.manifold import TSNE; HAS_SK = True\n",
    "# except: HAS_SK = False; print('Please install sklearn for layer visualization')\n",
    "# def plot_with_labels(lowDWeights, labels):\n",
    "#     plt.cla()\n",
    "#     X, Y = lowDWeights[:, 0], lowDWeights[:, 1]\n",
    "#     for x, y, s in zip(X, Y, labels):\n",
    "#         c = cm.rainbow(int(255 * s / 9)); plt.text(x, y, s, backgroundcolor=c, fontsize=9)\n",
    "#     plt.xlim(X.min(), X.max()); plt.ylim(Y.min(), Y.max()); plt.title('Visualize last layer'); plt.show(); plt.pause(0.01)\n",
    "#\n",
    "# plt.ion()\n",
    "# training and testing\n",
    "for epoch in range(2):\n",
    "    for step, (b_x, b_y) in enumerate(train_loader):   # gives batch data, normalize x when iterate train_loader\n",
    "\n",
    "        output = cnn(b_x)[0]               # cnn output\n",
    "        loss = loss_func(output, b_y)   # cross entropy loss\n",
    "        optimizer.zero_grad()           # clear gradients for this training step\n",
    "        loss.backward()                 # backpropagation, compute gradients\n",
    "        optimizer.step()                # apply gradients\n",
    "\n",
    "        if step % 50 == 0:\n",
    "            test_output, last_layer = cnn(test_x)\n",
    "            pred_y = torch.max(test_output, 1)[1].data.squeeze().numpy()\n",
    "            accuracy = float((pred_y == test_y.data.numpy()).astype(int).sum()) / float(test_y.size(0))\n",
    "            print('Epoch: ', epoch, '| train loss: %.4f' % loss.data.numpy(), '| test accuracy: %.4f' % accuracy)\n",
    "#             if HAS_SK:\n",
    "#                 # Visualization of trained flatten layer (T-SNE)\n",
    "#                 tsne = TSNE(perplexity=30, n_components=2, init='pca', n_iter=5000)\n",
    "#                 plot_only = 500\n",
    "#                 low_dim_embs = tsne.fit_transform(last_layer.data.numpy()[:plot_only, :])\n",
    "#                 labels = test_y.numpy()[:plot_only]\n",
    "#                 plot_with_labels(low_dim_embs, labels)\n",
    "# plt.ioff()\n",
    "\n",
    "\n"
   ]
  },
  {
   "cell_type": "code",
   "execution_count": 7,
   "metadata": {
    "collapsed": false
   },
   "outputs": [
    {
     "name": "stdout",
     "output_type": "stream",
     "text": [
      "[7 2 1 0 4 1 4 9 5 9 0 6 9 0 1 5 9 7 3 4 9 6 6 5 4 0 7 4 0 1] prediction number\n",
      "[7 2 1 0 4 1 4 9 5 9 0 6 9 0 1 5 9 7 3 4 9 6 6 5 4 0 7 4 0 1] real number\n"
     ]
    }
   ],
   "source": [
    "# print 10 predictions from test data\n",
    "test_output, _ = cnn(test_x[:30])\n",
    "pred_y = torch.max(test_output, 1)[1].data.numpy().squeeze()\n",
    "print(pred_y, 'prediction number')\n",
    "print(test_y[:30].numpy(), 'real number')"
   ]
  },
  {
   "cell_type": "code",
   "execution_count": 8,
   "metadata": {
    "collapsed": false
   },
   "outputs": [
    {
     "name": "stderr",
     "output_type": "stream",
     "text": [
      "C:\\Users\\xiey0\\Anaconda3\\lib\\site-packages\\torch\\serialization.py:250: UserWarning: Couldn't retrieve source code for container of type CNN. It won't be checked for correctness upon loading.\n",
      "  \"type \" + obj.__name__ + \". It won't be checked \"\n"
     ]
    }
   ],
   "source": [
    "torch.save(cnn, \"mnist_model.pth\")"
   ]
  },
  {
   "cell_type": "code",
   "execution_count": 9,
   "metadata": {
    "collapsed": true
   },
   "outputs": [],
   "source": [
    "del cnn"
   ]
  },
  {
   "cell_type": "code",
   "execution_count": 10,
   "metadata": {
    "collapsed": true
   },
   "outputs": [],
   "source": [
    "import os\n",
    "\n",
    "# third-party library\n",
    "import torch\n",
    "import torch.nn as nn\n",
    "import torch.utils.data as Data\n",
    "import torchvision\n",
    "import matplotlib.pyplot as plt\n",
    "\n",
    "# torch.manual_seed(1)    # reproducible\n",
    "\n",
    "# Hyper Parameters\n",
    "EPOCH = 2             # train the training data n times, to save time, we just train 1 epoch\n",
    "BATCH_SIZE = 50\n",
    "LR = 0.001              # learning rate\n",
    "\n"
   ]
  },
  {
   "cell_type": "code",
   "execution_count": 11,
   "metadata": {
    "collapsed": false
   },
   "outputs": [],
   "source": [
    "model = torch.load(\"mnist_model.pth\") "
   ]
  },
  {
   "cell_type": "code",
   "execution_count": 12,
   "metadata": {
    "collapsed": false
   },
   "outputs": [
    {
     "name": "stdout",
     "output_type": "stream",
     "text": [
      "CNN(\n",
      "  (conv1): Sequential(\n",
      "    (0): Conv2d(1, 16, kernel_size=(5, 5), stride=(1, 1), padding=(2, 2))\n",
      "    (1): ReLU()\n",
      "    (2): MaxPool2d(kernel_size=2, stride=2, padding=0, dilation=1, ceil_mode=False)\n",
      "  )\n",
      "  (conv2): Sequential(\n",
      "    (0): Conv2d(16, 32, kernel_size=(5, 5), stride=(1, 1), padding=(2, 2))\n",
      "    (1): ReLU()\n",
      "    (2): MaxPool2d(kernel_size=2, stride=2, padding=0, dilation=1, ceil_mode=False)\n",
      "  )\n",
      "  (out): Linear(in_features=1568, out_features=10, bias=True)\n",
      ")\n"
     ]
    }
   ],
   "source": [
    "print(model)"
   ]
  },
  {
   "cell_type": "code",
   "execution_count": 13,
   "metadata": {
    "collapsed": false
   },
   "outputs": [
    {
     "data": {
      "text/plain": [
       "Sequential(\n",
       "  (0): Conv2d(1, 16, kernel_size=(5, 5), stride=(1, 1), padding=(2, 2))\n",
       "  (1): ReLU()\n",
       "  (2): MaxPool2d(kernel_size=2, stride=2, padding=0, dilation=1, ceil_mode=False)\n",
       ")"
      ]
     },
     "execution_count": 13,
     "metadata": {},
     "output_type": "execute_result"
    }
   ],
   "source": [
    "model.conv1"
   ]
  },
  {
   "cell_type": "code",
   "execution_count": 14,
   "metadata": {
    "collapsed": false
   },
   "outputs": [
    {
     "data": {
      "text/plain": [
       "Parameter containing:\n",
       "tensor([[[[-0.1486, -0.1125,  0.1940,  0.0928,  0.1848],\n",
       "          [ 0.2567,  0.0887,  0.0343,  0.2191,  0.1157],\n",
       "          [ 0.1829,  0.3188,  0.2251,  0.0376, -0.0294],\n",
       "          [ 0.1617,  0.2086, -0.1231,  0.0192,  0.0278],\n",
       "          [ 0.0187, -0.4001, -0.4844, -0.4835, -0.4255]]],\n",
       "\n",
       "\n",
       "        [[[-0.0885, -0.1417, -0.2217, -0.1158, -0.1046],\n",
       "          [ 0.0906, -0.1471,  0.0649, -0.0240,  0.0100],\n",
       "          [ 0.2722,  0.1107,  0.2206,  0.2691,  0.1699],\n",
       "          [-0.0080,  0.0185, -0.1324,  0.0868,  0.2019],\n",
       "          [ 0.1385, -0.1502, -0.1038, -0.1345, -0.0758]]],\n",
       "\n",
       "\n",
       "        [[[-0.1612, -0.4836, -0.4328, -0.3081, -0.2758],\n",
       "          [ 0.2143, -0.2258, -0.0821, -0.1196, -0.1167],\n",
       "          [ 0.1451,  0.2672, -0.0633, -0.0281,  0.1173],\n",
       "          [ 0.0605,  0.2191,  0.1383,  0.1630,  0.3216],\n",
       "          [ 0.0900,  0.3620,  0.1981, -0.0056, -0.0953]]],\n",
       "\n",
       "\n",
       "        [[[-0.0148, -0.0784,  0.0038, -0.3086, -0.2457],\n",
       "          [-0.0968, -0.3645, -0.4521, -0.3265,  0.0415],\n",
       "          [-0.2738, -0.2181, -0.0900,  0.2445,  0.2005],\n",
       "          [ 0.1871,  0.0575,  0.1665,  0.1213,  0.2865],\n",
       "          [ 0.3536,  0.1900,  0.3284,  0.1645,  0.1234]]],\n",
       "\n",
       "\n",
       "        [[[ 0.0219, -0.0200,  0.2048, -0.1643, -0.0435],\n",
       "          [-0.1266,  0.1844, -0.0221,  0.2078,  0.0341],\n",
       "          [ 0.1580,  0.1954,  0.2668,  0.1657,  0.1571],\n",
       "          [ 0.0758,  0.2425,  0.0202,  0.2038,  0.2488],\n",
       "          [-0.0302, -0.1800,  0.1208, -0.1255,  0.1672]]],\n",
       "\n",
       "\n",
       "        [[[-0.3542, -0.1930,  0.1241,  0.2973,  0.3623],\n",
       "          [-0.3093,  0.0347,  0.2040,  0.3311,  0.0213],\n",
       "          [-0.1273,  0.2831,  0.1447,  0.1637, -0.1690],\n",
       "          [ 0.2064,  0.0841,  0.0965,  0.0074, -0.4228],\n",
       "          [ 0.1889, -0.0046, -0.2235, -0.2819, -0.3815]]],\n",
       "\n",
       "\n",
       "        [[[-0.3234, -0.1127, -0.1467, -0.1131,  0.1593],\n",
       "          [ 0.0609,  0.1272, -0.0406,  0.1220, -0.1804],\n",
       "          [ 0.2308,  0.0909, -0.0162, -0.1651,  0.0655],\n",
       "          [-0.0262,  0.2090, -0.0410,  0.1848,  0.1977],\n",
       "          [-0.0376, -0.1053, -0.1014,  0.2084,  0.1402]]],\n",
       "\n",
       "\n",
       "        [[[ 0.1921,  0.2669,  0.1616, -0.1748, -0.0419],\n",
       "          [ 0.0317,  0.0637, -0.1482, -0.1085,  0.1540],\n",
       "          [ 0.1628,  0.0386, -0.1331,  0.1816,  0.1656],\n",
       "          [ 0.0869,  0.0571, -0.0800,  0.1323,  0.2711],\n",
       "          [ 0.0259, -0.1186, -0.1137, -0.1840,  0.1590]]],\n",
       "\n",
       "\n",
       "        [[[ 0.1484, -0.2476, -0.2149, -0.4259,  0.1471],\n",
       "          [ 0.1639,  0.0125, -0.1521, -0.4368, -0.4041],\n",
       "          [ 0.1178,  0.2738, -0.1191,  0.0870, -0.2867],\n",
       "          [ 0.1078,  0.0788,  0.2430,  0.0482, -0.1402],\n",
       "          [ 0.1062,  0.1953,  0.1860,  0.1264,  0.0530]]],\n",
       "\n",
       "\n",
       "        [[[ 0.0606,  0.1009,  0.1387, -0.0833, -0.3145],\n",
       "          [ 0.2064,  0.2032,  0.1501, -0.0055, -0.1433],\n",
       "          [ 0.0684, -0.0234,  0.2315, -0.0524,  0.1508],\n",
       "          [-0.1508, -0.0715,  0.2834,  0.3009,  0.1712],\n",
       "          [-0.2498, -0.1255, -0.0370, -0.0369,  0.1537]]],\n",
       "\n",
       "\n",
       "        [[[-0.4347, -0.3261, -0.2757,  0.1478,  0.1274],\n",
       "          [-0.2947, -0.1994, -0.1726,  0.2161,  0.2121],\n",
       "          [-0.2475, -0.2345, -0.1301,  0.1836,  0.1508],\n",
       "          [ 0.0420,  0.2318,  0.1741,  0.0410,  0.1053],\n",
       "          [ 0.1667,  0.1563,  0.0603,  0.0500,  0.2162]]],\n",
       "\n",
       "\n",
       "        [[[ 0.1629, -0.2123, -0.1578,  0.2470,  0.2046],\n",
       "          [ 0.1127, -0.0337,  0.2822,  0.2774,  0.3156],\n",
       "          [ 0.2047,  0.2111,  0.2374,  0.1042,  0.2851],\n",
       "          [ 0.0864, -0.2234, -0.2964, -0.1302, -0.0110],\n",
       "          [-0.3918, -0.2333, -0.3984, -0.2885,  0.2260]]],\n",
       "\n",
       "\n",
       "        [[[-0.2231,  0.0704,  0.1743,  0.0151,  0.1418],\n",
       "          [-0.0196,  0.0489,  0.2021,  0.0236,  0.1428],\n",
       "          [-0.0587, -0.1111,  0.2366, -0.1462, -0.0729],\n",
       "          [ 0.1909,  0.2730,  0.1177,  0.2161, -0.0957],\n",
       "          [ 0.1054,  0.0753, -0.1184, -0.0482, -0.1588]]],\n",
       "\n",
       "\n",
       "        [[[-0.0837, -0.0224, -0.0543,  0.2158, -0.0129],\n",
       "          [ 0.1690,  0.2968,  0.0463,  0.3498,  0.0964],\n",
       "          [-0.1459,  0.1902,  0.0124,  0.3838,  0.1863],\n",
       "          [-0.3177, -0.3328, -0.2648,  0.2318,  0.3780],\n",
       "          [-0.2091, -0.2801, -0.4291, -0.1932,  0.0396]]],\n",
       "\n",
       "\n",
       "        [[[-0.0849, -0.0352,  0.1646,  0.1629,  0.1024],\n",
       "          [-0.2579,  0.2540,  0.2507,  0.1584, -0.0282],\n",
       "          [-0.1388,  0.1791,  0.3322, -0.0139, -0.0848],\n",
       "          [-0.0137,  0.3076,  0.0155, -0.0937, -0.1163],\n",
       "          [ 0.2095,  0.1918,  0.0525, -0.0162,  0.0200]]],\n",
       "\n",
       "\n",
       "        [[[-0.1094,  0.2338,  0.0442, -0.0005, -0.3283],\n",
       "          [ 0.2040,  0.2576,  0.0144, -0.1376, -0.4764],\n",
       "          [ 0.3066,  0.1046, -0.0092, -0.2791, -0.1243],\n",
       "          [ 0.2836,  0.1721,  0.1209, -0.1589, -0.2684],\n",
       "          [ 0.1064,  0.0201,  0.2587,  0.1637,  0.0343]]]], requires_grad=True)"
      ]
     },
     "execution_count": 14,
     "metadata": {},
     "output_type": "execute_result"
    }
   ],
   "source": [
    "model.conv1[0].weight"
   ]
  },
  {
   "cell_type": "code",
   "execution_count": 15,
   "metadata": {
    "collapsed": false
   },
   "outputs": [],
   "source": [
    "for param in model.conv1.parameters():\n",
    "    param.requires_grad = False\n",
    "    \n",
    "for param in model.conv2.parameters():\n",
    "    param.requires_grad = False"
   ]
  },
  {
   "cell_type": "code",
   "execution_count": 16,
   "metadata": {
    "collapsed": true
   },
   "outputs": [],
   "source": [
    "import os\n",
    "import time\n",
    "import h5py\n",
    "import numpy as np"
   ]
  },
  {
   "cell_type": "code",
   "execution_count": 17,
   "metadata": {
    "collapsed": false
   },
   "outputs": [
    {
     "name": "stdout",
     "output_type": "stream",
     "text": [
      "Training set (598388, 32, 32) (598388, 1)\n",
      "Validation set (6000, 32, 32) (6000, 1)\n",
      "Test set (26032, 32, 32) (26032, 1)\n"
     ]
    }
   ],
   "source": [
    "# Open the file as readonly\n",
    "h5f = h5py.File('data/SVHN_single_grey.h5', 'r')\n",
    "\n",
    "# Load the training, test and validation set\n",
    "X_train = h5f['X_train'][:]\n",
    "y_train = h5f['y_train'][:]\n",
    "X_test = h5f['X_test'][:]\n",
    "y_test = h5f['y_test'][:]\n",
    "X_val = h5f['X_val'][:]\n",
    "y_val = h5f['y_val'][:]\n",
    "\n",
    "# Close this file\n",
    "h5f.close()\n",
    "\n",
    "print('Training set', X_train.shape, y_train.shape)\n",
    "print('Validation set', X_val.shape, y_val.shape)\n",
    "print('Test set', X_test.shape, y_test.shape)"
   ]
  },
  {
   "cell_type": "code",
   "execution_count": 18,
   "metadata": {
    "collapsed": true
   },
   "outputs": [],
   "source": [
    "y_train = y_train.squeeze()\n",
    "y_test = y_test.squeeze()\n",
    "y_val = y_val.squeeze()"
   ]
  },
  {
   "cell_type": "code",
   "execution_count": 20,
   "metadata": {
    "collapsed": false
   },
   "outputs": [
    {
     "data": {
      "image/png": "[encoded data removed]",
      "text/plain": [
       "<Figure size 432x288 with 1 Axes>"
      ]
     },
     "metadata": {},
     "output_type": "display_data"
    },
    {
     "data": {
      "image/png": "[encoded data removed]",
      "text/plain": [
       "<Figure size 432x288 with 1 Axes>"
      ]
     },
     "metadata": {},
     "output_type": "display_data"
    },
    {
     "data": {
      "image/png": "[encoded data removed]",
      "text/plain": [
       "<Figure size 432x288 with 1 Axes>"
      ]
     },
     "metadata": {},
     "output_type": "display_data"
    },
    {
     "data": {
      "image/png": "[encoded data removed]",
      "text/plain": [
       "<Figure size 432x288 with 1 Axes>"
      ]
     },
     "metadata": {},
     "output_type": "display_data"
    },
    {
     "data": {
      "image/png": "[encoded data removed]",
      "text/plain": [
       "<Figure size 432x288 with 1 Axes>"
      ]
     },
     "metadata": {},
     "output_type": "display_data"
    }
   ],
   "source": [
    "\n",
    "for i in range(5):\n",
    "    plt.imshow(X_train[i][2:30, 2:30], cmap='gray')\n",
    "    plt.title('%i' % y_train[i])\n",
    "    plt.show()"
   ]
  },
  {
   "cell_type": "code",
   "execution_count": 21,
   "metadata": {
    "collapsed": true
   },
   "outputs": [],
   "source": [
    "X_train = X_train[:,2:30, 2:30]\n",
    "X_test = X_test[:,2:30, 2:30]\n",
    "X_val = X_val[:,2:30, 2:30]"
   ]
  },
  {
   "cell_type": "code",
   "execution_count": 22,
   "metadata": {
    "collapsed": true
   },
   "outputs": [],
   "source": [
    "X_train = np.expand_dims(X_train, axis=1)\n",
    "X_test = np.expand_dims(X_test, axis=1)\n",
    "X_val = np.expand_dims(X_val, axis=1)"
   ]
  },
  {
   "cell_type": "code",
   "execution_count": 23,
   "metadata": {
    "collapsed": false
   },
   "outputs": [
    {
     "data": {
      "text/plain": [
       "(598388, 1, 28, 28)"
      ]
     },
     "execution_count": 23,
     "metadata": {},
     "output_type": "execute_result"
    }
   ],
   "source": [
    "X_train.shape"
   ]
  },
  {
   "cell_type": "code",
   "execution_count": 24,
   "metadata": {
    "collapsed": false
   },
   "outputs": [
    {
     "data": {
      "text/plain": [
       "array([[[ 17.3834,  31.171 ,  61.6796,  56.6092,  61.0988,  74.2393,\n",
       "          78.8906,  78.8691,  78.6257,  77.5487,  77.6134,  75.6028,\n",
       "          69.5864,  49.5867,  37.3429,  29.2512,  27.1357,  27.0972,\n",
       "          40.3057,  67.9087,  74.2563,  76.8307,  65.4019,  32.8918,\n",
       "          27.1743,  27.3207,  30.1155,  29.0277],\n",
       "        [ 20.2907,  24.2857,  57.6091,  58.4673,  59.7229,  75.5812,\n",
       "          80.1401,  80.929 ,  78.9076,  78.3745,  77.1636,  75.609 ,\n",
       "          69.0164,  39.8219,  33.4096,  29.8967,  29.4945,  28.6795,\n",
       "          46.3329,  71.3814,  76.1529,  72.446 ,  38.5107,  28.3097,\n",
       "          31.838 ,  45.4855,  54.403 ,  45.2451],\n",
       "        [ 21.4108,  20.3292,  53.7728,  58.6737,  58.3147,  76.3577,\n",
       "          81.0214,  82.4342,  79.4669,  79.869 ,  78.1465,  77.1636,\n",
       "          75.022 ,  66.5929,  62.202 ,  40.321 ,  29.7826,  31.4297,\n",
       "          51.3262,  74.532 ,  78.7936,  51.4941,  26.3083,  31.2833,\n",
       "          43.0404,  67.8593,  74.3148,  68.5604],\n",
       "        [ 21.4924,  18.579 ,  48.593 ,  57.7231,  58.7939,  77.9446,\n",
       "          81.7224,  82.6622,  81.385 ,  81.0152,  80.5161,  78.9955,\n",
       "          77.3269,  75.854 ,  74.1685,  43.2067,  29.3743,  32.1415,\n",
       "          56.848 ,  76.4887,  70.8313,  33.3632,  29.9074,  34.0658,\n",
       "          57.8002,  78.1419,  79.49  ,  79.0817],\n",
       "        [ 22.2581,  15.3405,  42.7723,  57.9619,  58.5659,  77.3422,\n",
       "          82.0706,  81.8472,  81.7763,  81.9504,  79.3159,  80.2342,\n",
       "          79.8151,  77.7937,  75.0158,  40.0652,  28.2219,  33.1414,\n",
       "          63.6471,  78.1958,  57.321 ,  29.3312,  29.1094,  43.3593,\n",
       "          72.6632,  79.0108,  80.5977,  81.3912],\n",
       "        [ 23.4645,  16.6824,  35.8625,  59.2885,  58.381 ,  77.9678,\n",
       "          84.2723,  85.5757,  83.6174,  82.2   ,  81.1955,  81.3974,\n",
       "          80.3374,  79.5933,  74.5598,  37.7865,  27.8629,  35.3969,\n",
       "          66.2123,  76.8477,  42.6243,  28.7873,  30.1416,  52.0719,\n",
       "          78.3252,  79.2326,  82.7501,  82.7949],\n",
       "        [ 20.1659,  18.1553,  28.6012,  56.865 ,  56.4243,  79.4776,\n",
       "          84.8469,  86.1026,  85.5048,  82.1461,  83.3525,  81.8688,\n",
       "          81.4621,  80.4452,  73.13  ,  34.1351,  26.9169,  40.4889,\n",
       "          69.2999,  73.1346,  35.6403,  28.037 ,  31.1847,  60.1466,\n",
       "          80.0323,  81.4235,  83.1414,  83.3371],\n",
       "        [ 20.5141,  19.2862,  21.6989,  55.0393,  58.5551,  79.8088,\n",
       "          86.4276,  86.3476,  84.793 ,  84.5434,  84.8084,  81.6561,\n",
       "          81.9566,  83.032 ,  72.1193,  32.2385,  29.2326,  44.1311,\n",
       "          73.6801,  68.1135,  30.271 ,  28.2003,  36.1473,  67.7669,\n",
       "          81.5052,  82.9719,  84.9671,  84.8577],\n",
       "        [ 17.4327,  19.7484,  19.5681,  49.67  ,  60.9848,  81.4666,\n",
       "          87.3305,  86.2767,  85.249 ,  85.135 ,  85.7328,  84.2429,\n",
       "          83.1522,  84.5758,  68.0318,  28.9229,  29.7441,  50.012 ,\n",
       "          78.7335,  64.7009,  28.9706,  29.4821,  42.1575,  73.278 ,\n",
       "          81.727 ,  82.8902,  84.2292,  85.5218],\n",
       "        [ 16.7317,  19.9271,  16.2264,  44.4794,  58.8416,  81.9181,\n",
       "          87.3367,  87.3906,  85.7328,  84.4278,  85.4339,  84.3847,\n",
       "          82.7654,  84.3801,  62.7919,  26.5317,  30.7332,  56.3427,\n",
       "          79.5315,  64.4667,  29.0631,  27.0956,  43.4932,  76.3208,\n",
       "          83.2384,  84.1243,  83.6899,  83.8901],\n",
       "        [ 16.8134,  21.1596,  15.4437,  38.6711,  58.3363,  80.8904,\n",
       "          88.1517,  87.6186,  87.1025,  85.7867,  84.6143,  85.4231,\n",
       "          83.944 ,  83.8254,  57.156 ,  29.4174,  32.7931,  59.0219,\n",
       "          82.787 ,  67.9116,  29.5099,  30.1508,  46.5762,  77.5425,\n",
       "          82.8085,  84.2599,  84.6127,  84.0688],\n",
       "        [ 19.28  ,  19.2261,  16.0908,  31.1063,  58.4241,  82.5482,\n",
       "          89.1562,  87.5431,  87.141 ,  86.4877,  84.7992,  86.6896,\n",
       "          83.8578,  83.3524,  50.9655,  29.912 ,  29.7225,  63.2557,\n",
       "          83.505 ,  71.1178,  29.895 ,  28.2434,  44.7289,  76.3809,\n",
       "          85.8099,  86.9777,  85.9608,  78.9383],\n",
       "        [ 17.2802,  18.5574,  17.8025,  28.1991,  57.5013,  83.7869,\n",
       "          88.9713,  87.6571,  87.8358,  88.2379,  87.5539,  86.4508,\n",
       "          84.5588,  83.3247,  47.1832,  28.7102,  34.8099,  67.0936,\n",
       "          82.7762,  77.4393,  38.3904,  29.6993,  41.9556,  73.6631,\n",
       "          87.7388,  87.2057,  86.9176,  71.7433],\n",
       "        [ 18.1445,  19.1768,  19.4002,  24.5522,  58.0929,  84.4879,\n",
       "          90.3086,  88.8527,  87.9498,  88.184 ,  87.5261,  87.5585,\n",
       "          86.1627,  81.3095,  41.7429,  28.9983,  38.6694,  70.4308,\n",
       "          82.5283,  83.1568,  47.8672,  26.5902,  40.1946,  67.2723,\n",
       "          84.0596,  87.3736,  87.5324,  59.3747],\n",
       "        [ 20.0411,  18.807 ,  20.5141,  23.275 ,  56.6693,  84.5911,\n",
       "          90.3733,  90.1884,  89.6014,  89.0853,  87.3027,  87.2426,\n",
       "          86.6788,  79.9614,  35.8559,  30.0521,  40.794 ,  74.435 ,\n",
       "          84.1629,  84.5327,  68.0426,  32.3678,  32.1352,  55.1578,\n",
       "          75.8154,  86.2705,  83.5481,  46.4498],\n",
       "        [ 22.7419,  16.9767,  19.2816,  18.5143,  50.6699,  84.7113,\n",
       "          89.7046,  89.3564,  90.6183,  89.2271,  86.5971,  87.9175,\n",
       "          88.0916,  76.2051,  35.1657,  32.5635,  47.2772,  79.6132,\n",
       "          85.9608,  86.1457,  81.7071,  51.5927,  31.086 ,  38.0484,\n",
       "          56.8418,  65.9611,  54.2164,  35.9823],\n",
       "        [ 28.122 ,  17.0414,  19.0905,  16.1124,  41.888 ,  86.326 ,\n",
       "          90.0035,  91.4163,  90.4164,  89.6445,  89.0376,  87.9498,\n",
       "          87.0809,  71.09  ,  31.807 ,  30.596 ,  52.6357,  83.6791,\n",
       "          87.2658,  86.1627,  83.7608,  72.0223,  48.918 ,  36.6033,\n",
       "          33.5435,  32.3048,  30.8966,  34.1458],\n",
       "        [ 34.1214,  16.5253,  18.1014,  14.6287,  33.5082,  85.5263,\n",
       "          90.9864,  91.0142,  91.6613,  91.4379,  89.8033,  89.3796,\n",
       "          89.3842,  67.7313,  31.5512,  32.0905,  60.1466,  87.4014,\n",
       "          87.7927,  86.2443,  86.5047,  83.2708,  71.7773,  59.327 ,\n",
       "          51.0998,  45.4685,  36.081 ,  33.2583],\n",
       "        [ 42.1745,  15.8736,  19.7484,  17.2263,  25.8618,  84.8684,\n",
       "          94.1171,  92.7105,  92.7043,  91.9171,  91.4996,  90.4504,\n",
       "          89.3133,  59.6781,  31.0905,  35.4168,  64.7672,  88.5646,\n",
       "          88.0468,  88.3088,  87.5369,  87.5046,  81.647 ,  76.082 ,\n",
       "          73.7941,  59.6027,  35.3136,  36.3073],\n",
       "        [ 51.4248,  16.0137,  16.9705,  17.2972,  22.671 ,  82.1568,\n",
       "          95.3297,  94.8521,  92.3146,  91.1945,  92.1944,  93.0032,\n",
       "          91.025 ,  54.7371,  29.2802,  36.7218,  71.6894,  89.0314,\n",
       "          89.7432,  90.6506,  89.0098,  90.3086,  89.5645,  86.2767,\n",
       "          82.6361,  46.2864,  31.5142,  34.8128],\n",
       "        [ 58.5874,  18.8024,  17.0476,  18.3572,  23.0238,  81.787 ,\n",
       "          95.949 ,  94.6672,  94.0201,  93.0032,  91.9863,  91.1174,\n",
       "          90.1453,  48.0243,  31.1275,  40.3533,  76.31  ,  89.7494,\n",
       "          90.4226,  91.4826,  89.8356,  92.3623,  93.2374,  93.846 ,\n",
       "          68.9393,  34.2644,  34.118 ,  36.352 ],\n",
       "        [ 66.2339,  22.5848,  15.0308,  19.3401,  20.4047,  82.7608,\n",
       "          96.3851,  96.7317,  94.5855,  94.4268,  94.7966,  92.1774,\n",
       "          87.466 ,  41.7629,  33.4216,  42.1405,  78.0926,  90.9126,\n",
       "          90.8247,  92.8892,  92.5302,  94.5901,  95.2588,  80.2325,\n",
       "          40.4657,  32.9054,  35.651 ,  49.2724],\n",
       "        [ 71.2873,  27.5735,  15.3898,  19.7422,  19.7745,  83.2815,\n",
       "          99.0536,  97.123 ,  96.536 ,  95.5469,  93.3684,  92.6997,\n",
       "          84.303 ,  37.3566,  32.1274,  47.2386,  79.3959,  89.8849,\n",
       "          91.3624,  92.5041,  94.7365,  95.0955,  88.3026,  48.0798,\n",
       "          31.3401,  33.95  ,  45.1911,  71.7126],\n",
       "        [ 76.293 ,  36.6543,  16.6994,  19.9271,  22.8128,  84.4447,\n",
       "          98.1229,  96.667 ,  98.0197,  96.0091,  94.5254,  91.7168,\n",
       "          66.2277,  33.0195,  34.4708,  50.8253,  79.1078,  92.9663,\n",
       "          93.0803,  92.8415,  95.2758,  89.3842,  52.1071,  34.4123,\n",
       "          34.4708,  42.5658,  67.6483,  87.3798],\n",
       "        [ 76.048 ,  50.5219,  15.1448,  18.71  ,  23.5631,  85.8791,\n",
       "         100.2645,  98.5097,  98.2046,  97.5421,  73.0529,  52.8575,\n",
       "          36.6447,  34.7589,  35.5308,  43.2867,  61.9615,  72.64  ,\n",
       "          80.0107,  84.9609,  71.9004,  46.2864,  32.0689,  36.369 ,\n",
       "          48.2186,  66.3263,  85.4616,  95.1833],\n",
       "        [ 76.7598,  66.3139,  22.2797,  15.8674,  24.1331,  86.7372,\n",
       "         100.5356,  99.0689, 100.8793,  99.0258,  66.8238,  39.2979,\n",
       "          37.674 ,  41.136 ,  38.7063,  37.8482,  39.1963,  44.4192,\n",
       "          52.098 ,  40.4396,  33.4618,  36.9407,  47.8211,  57.3164,\n",
       "          71.8374,  86.1025,  96.4759,  99.2368],\n",
       "        [ 77.4023,  73.3517,  39.05  ,  15.2157,  23.0623,  85.9653,\n",
       "         100.8191,  99.8022, 101.0795,  98.4326,  85.0102,  69.0657,\n",
       "          65.8488,  63.2342,  62.3976,  58.8972,  59.1807,  68.984 ,\n",
       "          73.4459,  57.224 ,  56.3103,  62.9938,  71.0439,  81.0707,\n",
       "          90.7045,  97.1769,  99.7807, 101.2105],\n",
       "        [ 78.2928,  76.635 ,  61.6688,  20.2969,  21.725 ,  86.5863,\n",
       "         104.1563, 101.4385, 100.5464,  98.3725,  90.5536,  86.3799,\n",
       "          83.0382,  82.7932,  81.7548,  79.4992,  80.0816,  85.249 ,\n",
       "          84.7976,  80.3635,  79.1248,  83.961 ,  89.3626,  95.835 ,\n",
       "          98.2477, 102.0085, 101.1396, 102.0516]]], dtype=float32)"
      ]
     },
     "execution_count": 24,
     "metadata": {},
     "output_type": "execute_result"
    }
   ],
   "source": [
    "X_train[0]"
   ]
  },
  {
   "cell_type": "code",
   "execution_count": 25,
   "metadata": {
    "collapsed": true
   },
   "outputs": [],
   "source": [
    "# # Calculate the mean on the training data\n",
    "# train_mean = np.mean(X_train, axis=0)\n",
    "\n",
    "# # Calculate the std on the training data\n",
    "# train_std = np.std(X_train, axis=0)\n",
    "\n",
    "# # Subtract it equally from all splits\n",
    "# X_train = (X_train - train_mean) / train_std\n",
    "# X_test = (X_test - train_mean)  / train_std\n",
    "# X_val = (train_mean - X_val) / train_std\n",
    "X_train = X_train/255\n",
    "X_test = X_test/255\n",
    "X_val = X_val/255"
   ]
  },
  {
   "cell_type": "code",
   "execution_count": 26,
   "metadata": {
    "collapsed": true
   },
   "outputs": [],
   "source": [
    "from torch.utils.data import Dataset, DataLoader\n",
    "\n",
    "class MyDataset(Dataset):\n",
    "    def __init__(self, data, target, transform=None):\n",
    "        self.data = torch.from_numpy(data).float()\n",
    "        self.target = torch.from_numpy(target).long()\n",
    "        self.transform = transform\n",
    "        \n",
    "    def __getitem__(self, index):\n",
    "        x = self.data[index]\n",
    "        y = self.target[index]\n",
    "        \n",
    "        if self.transform:\n",
    "            x = self.transform(x)\n",
    "        \n",
    "        return x, y\n",
    "    \n",
    "    def __len__(self):\n",
    "        return len(self.data)\n",
    "\n",
    "\n",
    "# numpy_data = np.random.randn(100, 3, 24, 24)\n",
    "# numpy_target = np.random.randint(0, 5, size=(100))"
   ]
  },
  {
   "cell_type": "code",
   "execution_count": 27,
   "metadata": {
    "collapsed": true
   },
   "outputs": [],
   "source": [
    "train_dataset = MyDataset(X_train, y_train)\n",
    "train_loader = DataLoader(\n",
    "    train_dataset,\n",
    "    batch_size=64,\n",
    "    shuffle=True,\n",
    ")"
   ]
  },
  {
   "cell_type": "code",
   "execution_count": 28,
   "metadata": {
    "collapsed": true
   },
   "outputs": [],
   "source": [
    "test_dataset = MyDataset(X_test, y_test)\n",
    "test_loader = DataLoader(\n",
    "    test_dataset,\n",
    "    batch_size=32,\n",
    "    shuffle=True,\n",
    ")\n",
    "test_dataiter = iter(test_loader)"
   ]
  },
  {
   "cell_type": "code",
   "execution_count": 29,
   "metadata": {
    "collapsed": true
   },
   "outputs": [],
   "source": [
    "val_dataset = MyDataset(X_val, y_val)\n",
    "val_loader = DataLoader(\n",
    "    val_dataset,\n",
    "    batch_size=5,\n",
    "    shuffle=True,\n",
    ")\n",
    "val_dataiter = iter(val_loader)"
   ]
  },
  {
   "cell_type": "code",
   "execution_count": 30,
   "metadata": {
    "collapsed": false
   },
   "outputs": [
    {
     "data": {
      "text/plain": [
       "1"
      ]
     },
     "execution_count": 30,
     "metadata": {},
     "output_type": "execute_result"
    }
   ],
   "source": [
    "torch.cuda.is_available()\n",
    "torch.cuda.device_count()"
   ]
  },
  {
   "cell_type": "code",
   "execution_count": 31,
   "metadata": {
    "collapsed": false
   },
   "outputs": [],
   "source": [
    "optimizer = torch.optim.Adam(model.out.parameters(), lr=LR)   # optimize all cnn parameters\n",
    "loss_func = nn.CrossEntropyLoss()                       # the target label is not one-hotted"
   ]
  },
  {
   "cell_type": "code",
   "execution_count": 33,
   "metadata": {
    "collapsed": false
   },
   "outputs": [
    {
     "name": "stdout",
     "output_type": "stream",
     "text": [
      "Epoch:  1 |step:  999 | train loss: 519.6165 | test accuracy: 0.6875\n",
      "Epoch:  1 |step:  1999 | train loss: 472.0015 | test accuracy: 0.8750\n",
      "Epoch:  1 |step:  2999 | train loss: 459.4328 | test accuracy: 0.8750\n",
      "Epoch:  1 |step:  3999 | train loss: 436.7729 | test accuracy: 0.8125\n",
      "Epoch:  1 |step:  4999 | train loss: 431.5379 | test accuracy: 0.8125\n",
      "Epoch:  1 |step:  5999 | train loss: 422.0928 | test accuracy: 0.8750\n",
      "Epoch:  1 |step:  6999 | train loss: 416.1014 | test accuracy: 0.9062\n",
      "Epoch:  1 |step:  7999 | train loss: 405.9571 | test accuracy: 0.8750\n",
      "Epoch:  1 |step:  8999 | train loss: 403.6467 | test accuracy: 0.7188\n",
      "Epoch:  2 |step:  999 | train loss: 387.1046 | test accuracy: 0.9375\n",
      "Epoch:  2 |step:  1999 | train loss: 399.7677 | test accuracy: 0.8125\n",
      "Epoch:  2 |step:  2999 | train loss: 394.7462 | test accuracy: 0.8125\n",
      "Epoch:  2 |step:  3999 | train loss: 386.2148 | test accuracy: 0.8750\n",
      "Epoch:  2 |step:  4999 | train loss: 382.8725 | test accuracy: 0.8750\n",
      "Epoch:  2 |step:  5999 | train loss: 383.7465 | test accuracy: 0.9062\n",
      "Epoch:  2 |step:  6999 | train loss: 380.1278 | test accuracy: 0.9062\n",
      "Epoch:  2 |step:  7999 | train loss: 380.4791 | test accuracy: 0.8125\n",
      "Epoch:  2 |step:  8999 | train loss: 378.0921 | test accuracy: 0.7812\n"
     ]
    }
   ],
   "source": [
    "for epoch in range(2):\n",
    "    \n",
    "    running_loss = 0.0\n",
    "    for step, (b_x, b_y) in enumerate(train_loader):   # gives batch data, normalize x when iterate train_loader\n",
    "\n",
    "        output = model(b_x)[0]            # cnn output\n",
    "        loss = loss_func(output, b_y)   # cross entropy loss\n",
    "        optimizer.zero_grad()           # clear gradients for this training step\n",
    "        loss.backward()                 # backpropagation, compute gradients\n",
    "        optimizer.step()                # apply gradients\n",
    "        running_loss += loss.item()\n",
    "        \n",
    "        if step % 1000 == 999:\n",
    "            images, labels = test_dataiter.next()\n",
    "            test_output, last_layer = model(images)\n",
    "            pred_y = torch.max(test_output, 1)[1].data.squeeze().numpy()\n",
    "            accuracy = float((pred_y == labels.data.numpy()).astype(int).sum()) / float(labels.size(0))\n",
    "            print('Epoch: ', epoch+1, '|step: ',step, '| train loss: %.4f' % running_loss, '| test accuracy: %.4f' % accuracy)\n",
    "            running_loss = 0.0"
   ]
  },
  {
   "cell_type": "code",
   "execution_count": 35,
   "metadata": {
    "collapsed": false
   },
   "outputs": [
    {
     "data": {
      "image/png": "[encoded data removed]",
      "text/plain": [
       "<Figure size 432x288 with 1 Axes>"
      ]
     },
     "metadata": {},
     "output_type": "display_data"
    },
    {
     "name": "stdout",
     "output_type": "stream",
     "text": [
      "GroundTruth:  tensor(4) tensor(4) tensor(5) tensor(7) tensor(4)\n"
     ]
    }
   ],
   "source": [
    "images, labels = val_dataiter.next()\n",
    "\n",
    "def imshow(img):\n",
    "    img = img / 2 + 0.5     # unnormalize\n",
    "    npimg = img.numpy()\n",
    "    plt.imshow(np.transpose(npimg, (1, 2, 0)))\n",
    "    plt.show()\n",
    "    \n",
    "# print images\n",
    "imshow(torchvision.utils.make_grid(images))\n",
    "print('GroundTruth: ', ' '.join('%5s' % labels[j] for j in range(5)))"
   ]
  },
  {
   "cell_type": "code",
   "execution_count": 36,
   "metadata": {
    "collapsed": false
   },
   "outputs": [
    {
     "name": "stdout",
     "output_type": "stream",
     "text": [
      "Predicted:      4     4     5     7     4\n"
     ]
    }
   ],
   "source": [
    "test_output, last_layer = model(images)\n",
    "pred_y = torch.max(test_output, 1)[1].data.squeeze().numpy()\n",
    "\n",
    "print('Predicted: ', ' '.join('%5s' % pred_y[j]\n",
    "                              for j in range(5)))"
   ]
  },
  {
   "cell_type": "code",
   "execution_count": 37,
   "metadata": {
    "collapsed": false
   },
   "outputs": [
    {
     "name": "stderr",
     "output_type": "stream",
     "text": [
      "C:\\Users\\xiey0\\Anaconda3\\lib\\site-packages\\torch\\serialization.py:250: UserWarning: Couldn't retrieve source code for container of type CNN. It won't be checked for correctness upon loading.\n",
      "  \"type \" + obj.__name__ + \". It won't be checked \"\n"
     ]
    }
   ],
   "source": [
    "torch.save(model, \"svhn_model.pth\")"
   ]
  },
  {
   "cell_type": "code",
   "execution_count": 38,
   "metadata": {
    "collapsed": true
   },
   "outputs": [],
   "source": [
    "del model"
   ]
  },
  {
   "cell_type": "code",
   "execution_count": 39,
   "metadata": {
    "collapsed": true
   },
   "outputs": [],
   "source": [
    "new_model = torch.load(\"svhn_model.pth\") "
   ]
  },
  {
   "cell_type": "code",
   "execution_count": 40,
   "metadata": {
    "collapsed": false
   },
   "outputs": [
    {
     "data": {
      "text/plain": [
       "Parameter containing:\n",
       "tensor([[[[-0.1486, -0.1125,  0.1940,  0.0928,  0.1848],\n",
       "          [ 0.2567,  0.0887,  0.0343,  0.2191,  0.1157],\n",
       "          [ 0.1829,  0.3188,  0.2251,  0.0376, -0.0294],\n",
       "          [ 0.1617,  0.2086, -0.1231,  0.0192,  0.0278],\n",
       "          [ 0.0187, -0.4001, -0.4844, -0.4835, -0.4255]]],\n",
       "\n",
       "\n",
       "        [[[-0.0885, -0.1417, -0.2217, -0.1158, -0.1046],\n",
       "          [ 0.0906, -0.1471,  0.0649, -0.0240,  0.0100],\n",
       "          [ 0.2722,  0.1107,  0.2206,  0.2691,  0.1699],\n",
       "          [-0.0080,  0.0185, -0.1324,  0.0868,  0.2019],\n",
       "          [ 0.1385, -0.1502, -0.1038, -0.1345, -0.0758]]],\n",
       "\n",
       "\n",
       "        [[[-0.1612, -0.4836, -0.4328, -0.3081, -0.2758],\n",
       "          [ 0.2143, -0.2258, -0.0821, -0.1196, -0.1167],\n",
       "          [ 0.1451,  0.2672, -0.0633, -0.0281,  0.1173],\n",
       "          [ 0.0605,  0.2191,  0.1383,  0.1630,  0.3216],\n",
       "          [ 0.0900,  0.3620,  0.1981, -0.0056, -0.0953]]],\n",
       "\n",
       "\n",
       "        [[[-0.0148, -0.0784,  0.0038, -0.3086, -0.2457],\n",
       "          [-0.0968, -0.3645, -0.4521, -0.3265,  0.0415],\n",
       "          [-0.2738, -0.2181, -0.0900,  0.2445,  0.2005],\n",
       "          [ 0.1871,  0.0575,  0.1665,  0.1213,  0.2865],\n",
       "          [ 0.3536,  0.1900,  0.3284,  0.1645,  0.1234]]],\n",
       "\n",
       "\n",
       "        [[[ 0.0219, -0.0200,  0.2048, -0.1643, -0.0435],\n",
       "          [-0.1266,  0.1844, -0.0221,  0.2078,  0.0341],\n",
       "          [ 0.1580,  0.1954,  0.2668,  0.1657,  0.1571],\n",
       "          [ 0.0758,  0.2425,  0.0202,  0.2038,  0.2488],\n",
       "          [-0.0302, -0.1800,  0.1208, -0.1255,  0.1672]]],\n",
       "\n",
       "\n",
       "        [[[-0.3542, -0.1930,  0.1241,  0.2973,  0.3623],\n",
       "          [-0.3093,  0.0347,  0.2040,  0.3311,  0.0213],\n",
       "          [-0.1273,  0.2831,  0.1447,  0.1637, -0.1690],\n",
       "          [ 0.2064,  0.0841,  0.0965,  0.0074, -0.4228],\n",
       "          [ 0.1889, -0.0046, -0.2235, -0.2819, -0.3815]]],\n",
       "\n",
       "\n",
       "        [[[-0.3234, -0.1127, -0.1467, -0.1131,  0.1593],\n",
       "          [ 0.0609,  0.1272, -0.0406,  0.1220, -0.1804],\n",
       "          [ 0.2308,  0.0909, -0.0162, -0.1651,  0.0655],\n",
       "          [-0.0262,  0.2090, -0.0410,  0.1848,  0.1977],\n",
       "          [-0.0376, -0.1053, -0.1014,  0.2084,  0.1402]]],\n",
       "\n",
       "\n",
       "        [[[ 0.1921,  0.2669,  0.1616, -0.1748, -0.0419],\n",
       "          [ 0.0317,  0.0637, -0.1482, -0.1085,  0.1540],\n",
       "          [ 0.1628,  0.0386, -0.1331,  0.1816,  0.1656],\n",
       "          [ 0.0869,  0.0571, -0.0800,  0.1323,  0.2711],\n",
       "          [ 0.0259, -0.1186, -0.1137, -0.1840,  0.1590]]],\n",
       "\n",
       "\n",
       "        [[[ 0.1484, -0.2476, -0.2149, -0.4259,  0.1471],\n",
       "          [ 0.1639,  0.0125, -0.1521, -0.4368, -0.4041],\n",
       "          [ 0.1178,  0.2738, -0.1191,  0.0870, -0.2867],\n",
       "          [ 0.1078,  0.0788,  0.2430,  0.0482, -0.1402],\n",
       "          [ 0.1062,  0.1953,  0.1860,  0.1264,  0.0530]]],\n",
       "\n",
       "\n",
       "        [[[ 0.0606,  0.1009,  0.1387, -0.0833, -0.3145],\n",
       "          [ 0.2064,  0.2032,  0.1501, -0.0055, -0.1433],\n",
       "          [ 0.0684, -0.0234,  0.2315, -0.0524,  0.1508],\n",
       "          [-0.1508, -0.0715,  0.2834,  0.3009,  0.1712],\n",
       "          [-0.2498, -0.1255, -0.0370, -0.0369,  0.1537]]],\n",
       "\n",
       "\n",
       "        [[[-0.4347, -0.3261, -0.2757,  0.1478,  0.1274],\n",
       "          [-0.2947, -0.1994, -0.1726,  0.2161,  0.2121],\n",
       "          [-0.2475, -0.2345, -0.1301,  0.1836,  0.1508],\n",
       "          [ 0.0420,  0.2318,  0.1741,  0.0410,  0.1053],\n",
       "          [ 0.1667,  0.1563,  0.0603,  0.0500,  0.2162]]],\n",
       "\n",
       "\n",
       "        [[[ 0.1629, -0.2123, -0.1578,  0.2470,  0.2046],\n",
       "          [ 0.1127, -0.0337,  0.2822,  0.2774,  0.3156],\n",
       "          [ 0.2047,  0.2111,  0.2374,  0.1042,  0.2851],\n",
       "          [ 0.0864, -0.2234, -0.2964, -0.1302, -0.0110],\n",
       "          [-0.3918, -0.2333, -0.3984, -0.2885,  0.2260]]],\n",
       "\n",
       "\n",
       "        [[[-0.2231,  0.0704,  0.1743,  0.0151,  0.1418],\n",
       "          [-0.0196,  0.0489,  0.2021,  0.0236,  0.1428],\n",
       "          [-0.0587, -0.1111,  0.2366, -0.1462, -0.0729],\n",
       "          [ 0.1909,  0.2730,  0.1177,  0.2161, -0.0957],\n",
       "          [ 0.1054,  0.0753, -0.1184, -0.0482, -0.1588]]],\n",
       "\n",
       "\n",
       "        [[[-0.0837, -0.0224, -0.0543,  0.2158, -0.0129],\n",
       "          [ 0.1690,  0.2968,  0.0463,  0.3498,  0.0964],\n",
       "          [-0.1459,  0.1902,  0.0124,  0.3838,  0.1863],\n",
       "          [-0.3177, -0.3328, -0.2648,  0.2318,  0.3780],\n",
       "          [-0.2091, -0.2801, -0.4291, -0.1932,  0.0396]]],\n",
       "\n",
       "\n",
       "        [[[-0.0849, -0.0352,  0.1646,  0.1629,  0.1024],\n",
       "          [-0.2579,  0.2540,  0.2507,  0.1584, -0.0282],\n",
       "          [-0.1388,  0.1791,  0.3322, -0.0139, -0.0848],\n",
       "          [-0.0137,  0.3076,  0.0155, -0.0937, -0.1163],\n",
       "          [ 0.2095,  0.1918,  0.0525, -0.0162,  0.0200]]],\n",
       "\n",
       "\n",
       "        [[[-0.1094,  0.2338,  0.0442, -0.0005, -0.3283],\n",
       "          [ 0.2040,  0.2576,  0.0144, -0.1376, -0.4764],\n",
       "          [ 0.3066,  0.1046, -0.0092, -0.2791, -0.1243],\n",
       "          [ 0.2836,  0.1721,  0.1209, -0.1589, -0.2684],\n",
       "          [ 0.1064,  0.0201,  0.2587,  0.1637,  0.0343]]]])"
      ]
     },
     "execution_count": 40,
     "metadata": {},
     "output_type": "execute_result"
    }
   ],
   "source": [
    "new_model.conv1[0].weight"
   ]
  },
  {
   "cell_type": "code",
   "execution_count": null,
   "metadata": {
    "collapsed": true
   },
   "outputs": [],
   "source": []
  }
 ],
 "metadata": {
  "anaconda-cloud": {},
  "kernelspec": {
   "display_name": "Python [default]",
   "language": "python",
   "name": "python3"
  },
  "language_info": {
   "codemirror_mode": {
    "name": "ipython",
    "version": 3
   },
   "file_extension": ".py",
   "mimetype": "text/x-python",
   "name": "python",
   "nbconvert_exporter": "python",
   "pygments_lexer": "ipython3",
   "version": "3.5.2"
  }
 },
 "nbformat": 4,
 "nbformat_minor": 2
}
