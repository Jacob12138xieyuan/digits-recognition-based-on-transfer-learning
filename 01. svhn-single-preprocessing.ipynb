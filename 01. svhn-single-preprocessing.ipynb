{
 "cells": [
  {
   "cell_type": "markdown",
   "metadata": {},
   "source": [
    "# The SVHN dataset (32-by-32 images)\n",
    "\n",
    "#### Preprocessing of the 32 by 32 images from the SVHN dataset\n",
    "\n",
    "---\n",
    "\n",
    "The following notebook contains my code for loading, examining and pre-processing the 32-by-32 images from the SVHN dataset centered around a single digit. In this dataset all digits have been resized to a fixed resolution of 32-by-32 pixels. The original character bounding boxes are extended in the appropriate dimension to become square windows, so that resizing them to 32-by-32 pixels does not introduce aspect ratio distortions\n",
    "\n",
    "In this notebook we apply the following preprocessing steps:\n",
    "\n",
    "* Create a balanced validation set\n",
    "* Change the label values of 0's from 10 to 0\n",
    "* RGB to grayscale convertion"
   ]
  },
  {
   "cell_type": "code",
   "execution_count": 1,
   "metadata": {
    "collapsed": false
   },
   "outputs": [],
   "source": [
    "import numpy as np\n",
    "import matplotlib.pyplot as plt\n",
    "import seaborn as sns\n",
    "\n",
    "%matplotlib inline\n",
    "plt.rcParams['figure.figsize'] = (16.0, 4.0)"
   ]
  },
  {
   "cell_type": "markdown",
   "metadata": {},
   "source": [
    "Let's download the datasets from [this page](http://ufldl.stanford.edu/housenumbers/). This might take a while..."
   ]
  },
  {
   "cell_type": "code",
   "execution_count": 2,
   "metadata": {
    "collapsed": false
   },
   "outputs": [],
   "source": [
    "# import urllib.request\n",
    "\n",
    "# %mkdir data\n",
    "\n",
    "# urllib.request.urlretrieve(\"http://ufldl.stanford.edu/housenumbers/train_32x32.mat\", \"data/train_32x32.mat\")\n",
    "# urllib.request.urlretrieve(\"http://ufldl.stanford.edu/housenumbers/test_32x32.mat\", \"data/test_32x32.mat\")\n",
    "# urllib.request.urlretrieve(\"http://ufldl.stanford.edu/housenumbers/extra_32x32.mat\", \"data/extra_32x32.mat\")"
   ]
  },
  {
   "cell_type": "markdown",
   "metadata": {},
   "source": [
    "## Loading the Data\n",
    "\n",
    "The dataset comes in the MAT-File Format and we can use [``scipy.io.loadmat``](https://docs.scipy.org/doc/scipy/reference/generated/scipy.io.loadmat.html) to load the dataset."
   ]
  },
  {
   "cell_type": "code",
   "execution_count": 3,
   "metadata": {
    "collapsed": false
   },
   "outputs": [
    {
     "name": "stdout",
     "output_type": "stream",
     "text": [
      "Training (32, 32, 3, 73257) (73257, 1)\n",
      "Test (32, 32, 3, 26032) (26032, 1)\n",
      "Extra (32, 32, 3, 531131) (531131, 1)\n"
     ]
    }
   ],
   "source": [
    "from scipy.io import loadmat\n",
    "\n",
    "def load_data(path):\n",
    "    data = loadmat(path)\n",
    "    return data['X'], data['y']\n",
    "\n",
    "X_train, y_train = load_data('data/train_32x32.mat')\n",
    "X_test, y_test = load_data('data/test_32x32.mat')\n",
    "X_extra, y_extra = load_data('data/extra_32x32.mat')\n",
    "\n",
    "print(\"Training\", X_train.shape, y_train.shape)\n",
    "print(\"Test\", X_test.shape, y_test.shape)\n",
    "print('Extra', X_extra.shape, y_extra.shape)"
   ]
  },
  {
   "cell_type": "markdown",
   "metadata": {},
   "source": [
    "Let's permute the dimensions of the array to get the data into a more manageable format where the indexes correspond to (``image idx, row, column and color channel``)."
   ]
  },
  {
   "cell_type": "code",
   "execution_count": 4,
   "metadata": {
    "collapsed": false
   },
   "outputs": [
    {
     "name": "stdout",
     "output_type": "stream",
     "text": [
      "Training (73257, 3, 32, 32)\n",
      "Test (26032, 3, 32, 32)\n",
      "Extra (531131, 3, 32, 32)\n",
      "\n",
      "Total Number of Images 630420\n"
     ]
    }
   ],
   "source": [
    "# Transpose the image arrays\n",
    "X_train= X_train.transpose((3,2,0,1))\n",
    "X_test = X_test.transpose((3,2,0,1))\n",
    "X_extra = X_extra.transpose((3,2,0,1))\n",
    "\n",
    "print(\"Training\", X_train.shape)\n",
    "print(\"Test\", X_test.shape)\n",
    "print(\"Extra\", X_extra.shape)\n",
    "print('')\n",
    "\n",
    "# Calculate the total number of images\n",
    "num_images = X_train.shape[0] + X_test.shape[0] + X_extra.shape[0]\n",
    "\n",
    "print(\"Total Number of Images\", num_images)"
   ]
  },
  {
   "cell_type": "markdown",
   "metadata": {},
   "source": [
    "Let's render some images. In Matplotlib this is done using ``imshow()``. Here i have written a simple helper function that dynamically sets the ``width``and the ``height`` of figure and renders a grid consiting of ``nrows`` * ``ncols`` images."
   ]
  },
  {
   "cell_type": "markdown",
   "metadata": {},
   "source": [
    "Let's render a set of digits from the ``training set``, ``test set`` and ``validation set``."
   ]
  },
  {
   "cell_type": "code",
   "execution_count": 73,
   "metadata": {
    "collapsed": false
   },
   "outputs": [
    {
     "data": {
      "image/png": "[encoded data removed]",
      "text/plain": [
       "<Figure size 1152x288 with 1 Axes>"
      ]
     },
     "metadata": {},
     "output_type": "display_data"
    }
   ],
   "source": [
    "# Plot some training set images\n",
    "def plot(img):\n",
    "    plt.imshow(img.transpose((1,2,0)))\n",
    "    \n",
    "plot(X_train[0])"
   ]
  },
  {
   "cell_type": "code",
   "execution_count": 74,
   "metadata": {
    "collapsed": false
   },
   "outputs": [
    {
     "data": {
      "image/png": "[encoded data removed]",
      "text/plain": [
       "<Figure size 1152x288 with 1 Axes>"
      ]
     },
     "metadata": {},
     "output_type": "display_data"
    }
   ],
   "source": [
    "# Plot some test set images\n",
    "plot(X_test[0])"
   ]
  },
  {
   "cell_type": "code",
   "execution_count": 34,
   "metadata": {
    "collapsed": false
   },
   "outputs": [
    {
     "data": {
      "image/png": "[encoded data removed]",
      "text/plain": [
       "<Figure size 1152x288 with 1 Axes>"
      ]
     },
     "metadata": {},
     "output_type": "display_data"
    }
   ],
   "source": [
    "# Plot some extra set images\n",
    "plot(X_extra)"
   ]
  },
  {
   "cell_type": "markdown",
   "metadata": {},
   "source": [
    "Zeros have been labeled as 10 in this dataset. To verify this we can  contained in the labels array using ``numpy.unique()``"
   ]
  },
  {
   "cell_type": "code",
   "execution_count": 35,
   "metadata": {
    "collapsed": false
   },
   "outputs": [
    {
     "name": "stdout",
     "output_type": "stream",
     "text": [
      "[ 1  2  3  4  5  6  7  8  9 10]\n"
     ]
    }
   ],
   "source": [
    "print(np.unique(y_train))"
   ]
  },
  {
   "cell_type": "markdown",
   "metadata": {},
   "source": [
    "Let's check the class balance in our dataset by plotting a histogram showing the value distributions."
   ]
  },
  {
   "cell_type": "code",
   "execution_count": 36,
   "metadata": {
    "collapsed": false,
    "scrolled": true
   },
   "outputs": [
    {
     "data": {
      "image/png": "[encoded data removed]",
      "text/plain": [
       "<Figure size 1152x288 with 3 Axes>"
      ]
     },
     "metadata": {},
     "output_type": "display_data"
    }
   ],
   "source": [
    "fig, (ax1, ax2, ax3) = plt.subplots(1, 3, sharex=True)\n",
    "\n",
    "fig.suptitle('Class Distribution', fontsize=14, fontweight='bold', y=1.05)\n",
    "\n",
    "ax1.hist(y_train, bins=10)\n",
    "ax1.set_title(\"Training set\")\n",
    "ax1.set_xlim(1, 10)\n",
    "\n",
    "ax2.hist(y_test, color='g', bins=10)\n",
    "ax2.set_title(\"Test set\")\n",
    "\n",
    "ax3.hist(y_extra, color='r', bins=10);\n",
    "ax3.set_title(\"Extra set\");\n",
    "\n",
    "fig.tight_layout()"
   ]
  },
  {
   "cell_type": "markdown",
   "metadata": {},
   "source": [
    "All distributions have a positiv skew, meaning that we have an overweight of smaller values."
   ]
  },
  {
   "cell_type": "markdown",
   "metadata": {},
   "source": [
    "## Preprocessing\n",
    "\n",
    "After skimming some of the publications with the lowest error rate on the SVHN dataset, found [here](http://rodrigob.github.io/are_we_there_yet/build/classification_datasets_results.html#5356484e) i found the following written on pre-processing techniques applied to the SVHN dataset.\n",
    "\n",
    "* [Chang et al. 2015](https://arxiv.org/abs/1511.02583) and [Lee et al. 2014](http://vcl.ucsd.edu/~sxie/2014/09/12/dsn-project/) both report creating a balanced validation set\n",
    "* [Liang et al. 2015](http://www.cv-foundation.org/openaccess/content_cvpr_2015/app/2B_004.pdf) report that the pre-processed the images by removing the per-pixel mean value calculated over the the entire set.\n",
    "* [Lee et al. 2014](http://jmlr.org/proceedings/papers/v38/lee15a.pdf) and [Goodfellow et al. 2014](http://static.googleusercontent.com/media/research.google.com/en//pubs/archive/42241.pdf) report using [local contrast normalization](http://scikit-image.org/docs/dev/auto_examples/plot_local_equalize.html) to preprocess the images.\n",
    "* [Goodfellow et al. 2013](http://static.googleusercontent.com/media/research.google.com/en//pubs/archive/42241.pdf) report that they subtract the mean from every image.\n",
    "\n",
    "Normalization refers to normalizing the data dimensions so that they are of approximately the same scale. There are two common ways of achieving this normalization. One is to divide each dimension by its standard deviation, once it has been zero-centered. Another form of this preprocessing normalizes each dimension so that the min and max along the dimension is -1 and 1 respectively. The following figure taken from the [CS231n notes](http://cs231n.github.io/neural-networks-2/) illutrates how this changes the data.\n",
    "\n",
    "<img style=\"float:left; width:75%\" src=\"http://cs231n.github.io/assets/nn2/prepro1.jpeg\"/>\n",
    "\n",
    "<br clear=\"all\"/>\n",
    "\n",
    "Because the motivation behind this experiment is knowledge and not a highly optimized solution we will replicate the validation set approach described above to be able to compare our results against a benchmark and convert the images to grayscale to reduce the total amount of data we have to preprocess. If any additional pre-processing is required it can be applied before feeding the data to the model.\n",
    "\n",
    "**Preprocessing Steps:**\n",
    "\n",
    "1. Update the label value of zero images to 0\n",
    "2. Created a balanced validation set with with an equal number of exampels from each class with a combination of easy and hard samples\n",
    "3. Convert images from RGB to grayscale"
   ]
  },
  {
   "cell_type": "markdown",
   "metadata": {},
   "source": [
    "### Update label of zero images to 0\n",
    "\n",
    "Let's start by applying a quick fix. Set the zero labes to 0 as we'll use the value 10 for empty digits when learning to recognize sequences of digits."
   ]
  },
  {
   "cell_type": "code",
   "execution_count": 37,
   "metadata": {
    "collapsed": true
   },
   "outputs": [],
   "source": [
    "y_train[y_train == 10] = 0\n",
    "y_test[y_test == 10] = 0\n",
    "y_extra[y_extra == 10] = 0"
   ]
  },
  {
   "cell_type": "markdown",
   "metadata": {},
   "source": [
    "### Creating a Balanced Validation Set\n",
    "\n",
    "The dataset is divided into three subsets: train set, extra set and test set. The extra set is a large set of easy samples and train set is a smaller set of more difficult samples. Since we are given no information about how the sampling of these images was done, we assume a random order to construct our validation set. We compose our validation set with 2/3 from training samples (400 per class) and 1/3 from extra samples (200 per class), yielding a total of 6000 samples.\n",
    "\n",
    "We want to have a balanced validation set consisting of both easy examples from the validation set and some hard ones from the training set. The sample contains ``s`` images of each class."
   ]
  },
  {
   "cell_type": "code",
   "execution_count": 38,
   "metadata": {
    "collapsed": true
   },
   "outputs": [],
   "source": [
    "def balanced_subsample(y, s):\n",
    "    \"\"\"Return a balanced subsample of the population\"\"\"\n",
    "    sample = []\n",
    "    # For every label in the dataset\n",
    "    for label in np.unique(y):\n",
    "        # Get the index of all images with a specific label\n",
    "        images = np.where(y==label)[0]\n",
    "        # Draw a random sample from the images\n",
    "        random_sample = np.random.choice(images, size=s, replace=False)\n",
    "        # Add the random sample to our subsample list\n",
    "        sample += random_sample.tolist()\n",
    "    return sample"
   ]
  },
  {
   "cell_type": "markdown",
   "metadata": {},
   "source": [
    "Create a validation set by selecting a balanced subsample of 400 images of each class from the training set and 200 images of each class from the extra set. This gives us a total of 6000 images in our validation set."
   ]
  },
  {
   "cell_type": "code",
   "execution_count": 39,
   "metadata": {
    "collapsed": false
   },
   "outputs": [
    {
     "name": "stdout",
     "output_type": "stream",
     "text": [
      "Training (598388, 3, 32, 32) (598388, 1)\n",
      "Test (26032, 3, 32, 32) (26032, 1)\n",
      "Validation (6000, 3, 32, 32) (6000, 1)\n"
     ]
    }
   ],
   "source": [
    "# Pick 400 samples per class from the training samples\n",
    "train_samples = balanced_subsample(y_train, 400)\n",
    "# Pick 200 samples per class from the extra dataset\n",
    "extra_samples = balanced_subsample(y_extra, 200)\n",
    "\n",
    "X_val, y_val = np.copy(X_train[train_samples]), np.copy(y_train[train_samples])\n",
    "\n",
    "# Remove the samples to avoid duplicates\n",
    "X_train = np.delete(X_train, train_samples, axis=0)\n",
    "y_train = np.delete(y_train, train_samples, axis=0)\n",
    "\n",
    "X_val = np.concatenate([X_val, np.copy(X_extra[extra_samples])])\n",
    "y_val = np.concatenate([y_val, np.copy(y_extra[extra_samples])])\n",
    "\n",
    "# Remove the samples to avoid duplicates\n",
    "X_extra = np.delete(X_extra, extra_samples, axis=0)\n",
    "y_extra = np.delete(y_extra, extra_samples, axis=0)\n",
    "\n",
    "X_train = np.concatenate([X_train, X_extra])\n",
    "y_train = np.concatenate([y_train, y_extra])\n",
    "X_test, y_test = X_test, y_test\n",
    "\n",
    "print(\"Training\", X_train.shape, y_train.shape)\n",
    "print(\"Test\", X_test.shape, y_test.shape)\n",
    "print('Validation', X_val.shape, y_val.shape)"
   ]
  },
  {
   "cell_type": "markdown",
   "metadata": {},
   "source": [
    "Let's plot the new distributions of our new datasets"
   ]
  },
  {
   "cell_type": "code",
   "execution_count": 40,
   "metadata": {
    "collapsed": false
   },
   "outputs": [
    {
     "data": {
      "image/png": "[encoded data removed]",
      "text/plain": [
       "<Figure size 1152x288 with 3 Axes>"
      ]
     },
     "metadata": {},
     "output_type": "display_data"
    }
   ],
   "source": [
    "fig, (ax1, ax2, ax3) = plt.subplots(1, 3, sharex=True)\n",
    "\n",
    "fig.suptitle('Class Distribution', fontsize=14, fontweight='bold', y=1.05)\n",
    "\n",
    "ax1.hist(y_train, bins=10)\n",
    "ax1.set_title(\"Training set\")\n",
    "ax1.set_xlim(0, 9)\n",
    "\n",
    "ax2.hist(y_test, color='g', bins=10)\n",
    "ax2.set_title(\"Test set\")\n",
    "\n",
    "ax3.hist(y_val, color='r', bins=10);\n",
    "ax3.set_title(\"Validation set\");\n",
    "\n",
    "fig.tight_layout()"
   ]
  },
  {
   "cell_type": "markdown",
   "metadata": {},
   "source": [
    "Having a different distribution on the validation set means that validate the models ability to recognize digits where each number is equally important."
   ]
  },
  {
   "cell_type": "markdown",
   "metadata": {},
   "source": [
    "Let´s perform a **sanity check** on our dataset to make sure everything is still in order. First, check that we have the same number of images as we initially had, then visualize our digits to see that the labels and images still match."
   ]
  },
  {
   "cell_type": "code",
   "execution_count": 41,
   "metadata": {
    "collapsed": false
   },
   "outputs": [
    {
     "data": {
      "image/png": "[encoded data removed]",
      "text/plain": [
       "<Figure size 1152x288 with 1 Axes>"
      ]
     },
     "metadata": {},
     "output_type": "display_data"
    }
   ],
   "source": [
    "# Assert that we did not remove or add any duplicates\n",
    "assert(num_images == X_train.shape[0] + X_test.shape[0] + X_val.shape[0])\n",
    "\n",
    "# Display some samples images from the training set\n",
    "plot(X_train[0])"
   ]
  },
  {
   "cell_type": "code",
   "execution_count": 42,
   "metadata": {
    "collapsed": false
   },
   "outputs": [
    {
     "data": {
      "image/png": "[encoded data removed]",
      "text/plain": [
       "<Figure size 1152x288 with 1 Axes>"
      ]
     },
     "metadata": {},
     "output_type": "display_data"
    }
   ],
   "source": [
    "# Display some samples images from the test set\n",
    "plot(X_test)"
   ]
  },
  {
   "cell_type": "code",
   "execution_count": 43,
   "metadata": {
    "collapsed": false
   },
   "outputs": [
    {
     "data": {
      "image/png": "[encoded data removed]",
      "text/plain": [
       "<Figure size 1152x288 with 1 Axes>"
      ]
     },
     "metadata": {},
     "output_type": "display_data"
    }
   ],
   "source": [
    "# Display some samples images from the validation set\n",
    "plot(X_val)"
   ]
  },
  {
   "cell_type": "markdown",
   "metadata": {},
   "source": [
    "### RGB to Grayscale\n",
    "\n",
    "To speed up our experiments we will convert our images from RGB to Grayscale, which grately reduces the amount of data we will have to process. To convert RBG values to grayscale we can take a weighted sum of the R, G, and B components. For more information see [``Converting color to grayscale``](https://en.wikipedia.org/wiki/Grayscale#Converting_color_to_grayscale).\n",
    "\n",
    "$ Y' = 0.2989R + 0.5870G + 0.1140B $"
   ]
  },
  {
   "cell_type": "markdown",
   "metadata": {},
   "source": [
    "Here is a simple function that helps us print the size of a numpy array in a human readable format."
   ]
  },
  {
   "cell_type": "code",
   "execution_count": 98,
   "metadata": {
    "collapsed": true
   },
   "outputs": [],
   "source": [
    "suffixes = ['B', 'KB', 'MB', 'GB']\n",
    "\n",
    "def humansize(nbytes):\n",
    "    if nbytes == 0: return '0 B'\n",
    "    i = 0\n",
    "    while nbytes >= 1024:\n",
    "        nbytes /= 1024.\n",
    "        i += 1\n",
    "    f = ('%.2f' % nbytes).rstrip('0').rstrip('.')\n",
    "    return '%s %s' % (f, suffixes[i])"
   ]
  },
  {
   "cell_type": "markdown",
   "metadata": {},
   "source": [
    "Let's convert our digits to grayscale and compare the total size of the arrays before and after the transformation and display a few samples of our transformed images. We add an additional dimension to our greyscale images to make it easier to write ``TensorFlow`` codes that work on both color and greyscale images."
   ]
  },
  {
   "cell_type": "code",
   "execution_count": 90,
   "metadata": {
    "collapsed": false
   },
   "outputs": [
    {
     "data": {
      "text/plain": [
       "(598388, 32, 32)"
      ]
     },
     "execution_count": 90,
     "metadata": {},
     "output_type": "execute_result"
    }
   ],
   "source": [
    "X_train[:,0,:].shape"
   ]
  },
  {
   "cell_type": "code",
   "execution_count": 91,
   "metadata": {
    "collapsed": false
   },
   "outputs": [],
   "source": [
    "def rgb2gray(rgb):\n",
    "    gray = 0.2989 *rgb[:,0,:]+ 0.5870 *rgb[:,1,:]+ 0.1140 * rgb[:,2,:]\n",
    "    return gray"
   ]
  },
  {
   "cell_type": "code",
   "execution_count": 95,
   "metadata": {
    "collapsed": false
   },
   "outputs": [
    {
     "data": {
      "text/plain": [
       "<matplotlib.image.AxesImage at 0x27a9f323208>"
      ]
     },
     "execution_count": 95,
     "metadata": {},
     "output_type": "execute_result"
    },
    {
     "data": {
      "image/png": "[encoded data removed]",
      "text/plain": [
       "<Figure size 1152x288 with 1 Axes>"
      ]
     },
     "metadata": {},
     "output_type": "display_data"
    }
   ],
   "source": [
    "train_grayscale = rgb2gray(X_train).astype(np.float32)\n",
    "plt.imshow(train_grayscale[0], cmap='gray')\n"
   ]
  },
  {
   "cell_type": "code",
   "execution_count": 96,
   "metadata": {
    "collapsed": false
   },
   "outputs": [
    {
     "data": {
      "text/plain": [
       "<matplotlib.image.AxesImage at 0x27a9f46a7b8>"
      ]
     },
     "execution_count": 96,
     "metadata": {},
     "output_type": "execute_result"
    },
    {
     "data": {
      "image/png": "[encoded data removed]",
      "text/plain": [
       "<Figure size 1152x288 with 1 Axes>"
      ]
     },
     "metadata": {},
     "output_type": "display_data"
    }
   ],
   "source": [
    "test_grayscale = rgb2gray(X_test).astype(np.float32)\n",
    "plt.imshow(test_grayscale[0], cmap='gray')\n"
   ]
  },
  {
   "cell_type": "code",
   "execution_count": 97,
   "metadata": {
    "collapsed": false
   },
   "outputs": [
    {
     "data": {
      "text/plain": [
       "<matplotlib.image.AxesImage at 0x27aa0932d68>"
      ]
     },
     "execution_count": 97,
     "metadata": {},
     "output_type": "execute_result"
    },
    {
     "data": {
      "image/png": "[encoded data removed]",
      "text/plain": [
       "<Figure size 1152x288 with 1 Axes>"
      ]
     },
     "metadata": {},
     "output_type": "display_data"
    }
   ],
   "source": [
    "valid_grayscale = rgb2gray(X_val).astype(np.float32)\n",
    "plt.imshow(valid_grayscale[0], cmap='gray')"
   ]
  },
  {
   "cell_type": "code",
   "execution_count": 100,
   "metadata": {
    "collapsed": false
   },
   "outputs": [
    {
     "name": "stdout",
     "output_type": "stream",
     "text": [
      "Dimensions\n",
      "Training set (598388, 3, 32, 32) (598388, 32, 32)\n",
      "Test set (26032, 3, 32, 32) (26032, 32, 32)\n",
      "Validation set (6000, 3, 32, 32) (6000, 32, 32)\n",
      "\n",
      "Data Type\n",
      "Training set uint8 float32\n",
      "Test set uint8 float32\n",
      "Validation set uint8 float32\n",
      "\n",
      "Dataset Size\n",
      "Training set 1.71 GB 2.28 GB\n",
      "Test set 76.27 MB 101.69 MB\n",
      "Validation set 17.58 MB 23.44 MB\n"
     ]
    }
   ],
   "source": [
    "# Keep the size before convertion\n",
    "size_before = (X_train.nbytes, X_test.nbytes, X_val.nbytes)\n",
    "\n",
    "# Size after transformation\n",
    "size_after = (train_grayscale.nbytes, test_grayscale.nbytes, valid_grayscale.nbytes)\n",
    "\n",
    "print(\"Dimensions\")\n",
    "print(\"Training set\", X_train.shape, train_grayscale.shape)\n",
    "print(\"Test set\", X_test.shape, test_grayscale.shape)\n",
    "print(\"Validation set\", X_val.shape, valid_grayscale.shape)\n",
    "print('')\n",
    "\n",
    "print(\"Data Type\")\n",
    "print(\"Training set\", X_train.dtype, train_grayscale.dtype)\n",
    "print(\"Test set\", X_test.dtype, test_grayscale.dtype)\n",
    "print(\"Validation set\", X_val.dtype, valid_grayscale.dtype)\n",
    "print('')\n",
    "\n",
    "print(\"Dataset Size\")\n",
    "print(\"Training set\", humansize(size_before[0]), humansize(size_after[0]))\n",
    "print(\"Test set\", humansize(size_before[1]), humansize(size_after[1]))\n",
    "print(\"Validation set\", humansize(size_before[2]), humansize(size_after[2]))\n",
    "\n"
   ]
  },
  {
   "cell_type": "markdown",
   "metadata": {},
   "source": [
    "Even though we cut the total number of elements in the array in 3 the new array takes up more space since we use a different and more expensive datatype."
   ]
  },
  {
   "cell_type": "markdown",
   "metadata": {},
   "source": [
    "### One Hot Encoding\n",
    "\n",
    "Finally we apply One Hot Encoding to our label values."
   ]
  },
  {
   "cell_type": "code",
   "execution_count": null,
   "metadata": {
    "collapsed": false
   },
   "outputs": [],
   "source": [
    "# from sklearn.preprocessing import OneHotEncoder\n",
    " \n",
    "# # Fit the OneHotEncoder\n",
    "# enc = OneHotEncoder().fit(y_train.reshape(-1, 1))\n",
    "\n",
    "# # Transform the label values to a one-hot-encoding scheme\n",
    "# y_train = enc.transform(y_train.reshape(-1, 1)).toarray()\n",
    "# y_test = enc.transform(y_test.reshape(-1, 1)).toarray()\n",
    "# y_val = enc.transform(y_val.reshape(-1, 1)).toarray()\n",
    "\n",
    "# print(\"Training set\", y_train.shape)\n",
    "# print(\"Test set\", y_test.shape)\n",
    "# print(\"Training set\", y_val.shape)"
   ]
  },
  {
   "cell_type": "markdown",
   "metadata": {},
   "source": [
    "## Storing the Changes\n",
    "\n",
    "Let's store our new datasets in a pickle file that can be used as model input. Since i was experiencing some issues with pickle i decided to give [``h5py``](http://docs.h5py.org/en/latest/quick.html) a shot. For the sake of experimentation we store both the RGB and greyscale images.\n",
    "\n",
    "Let's start by storing the **RGB images**."
   ]
  },
  {
   "cell_type": "code",
   "execution_count": 101,
   "metadata": {
    "collapsed": true
   },
   "outputs": [],
   "source": [
    "import h5py\n",
    "\n",
    "# Create file\n",
    "h5f = h5py.File('data/SVHN_single.h5', 'w')\n",
    "\n",
    "# Store the datasets\n",
    "h5f.create_dataset('X_train', data=X_train)\n",
    "h5f.create_dataset('y_train', data=y_train)\n",
    "h5f.create_dataset('X_test', data=X_test)\n",
    "h5f.create_dataset('y_test', data=y_test)\n",
    "h5f.create_dataset('X_val', data=X_val)\n",
    "h5f.create_dataset('y_val', data=y_val)\n",
    "\n",
    "# Close the file\n",
    "h5f.close()"
   ]
  },
  {
   "cell_type": "markdown",
   "metadata": {},
   "source": [
    "... and the **grayscale** images."
   ]
  },
  {
   "cell_type": "code",
   "execution_count": 102,
   "metadata": {
    "collapsed": false
   },
   "outputs": [],
   "source": [
    "import h5py\n",
    "\n",
    "# Create file\n",
    "h5f = h5py.File('data/SVHN_single_grey.h5', 'w')\n",
    "\n",
    "# Store the datasets\n",
    "h5f.create_dataset('X_train', data=train_grayscale)\n",
    "h5f.create_dataset('y_train', data=y_train)\n",
    "h5f.create_dataset('X_test', data=test_grayscale)\n",
    "h5f.create_dataset('y_test', data=y_test)\n",
    "h5f.create_dataset('X_val', data=valid_grayscale)\n",
    "h5f.create_dataset('y_val', data=y_val)\n",
    "\n",
    "# Close the file\n",
    "h5f.close()"
   ]
  },
  {
   "cell_type": "markdown",
   "metadata": {},
   "source": [
    "Let's shutdown the notebook using ``Close and Halt`` and implement a model on our new dataset."
   ]
  }
 ],
 "metadata": {
  "anaconda-cloud": {},
  "kernelspec": {
   "display_name": "Python [default]",
   "language": "python",
   "name": "python3"
  },
  "language_info": {
   "codemirror_mode": {
    "name": "ipython",
    "version": 3
   },
   "file_extension": ".py",
   "mimetype": "text/x-python",
   "name": "python",
   "nbconvert_exporter": "python",
   "pygments_lexer": "ipython3",
   "version": "3.5.2"
  }
 },
 "nbformat": 4,
 "nbformat_minor": 1
}
